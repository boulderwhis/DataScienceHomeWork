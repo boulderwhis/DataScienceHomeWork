{
 "cells": [
  {
   "cell_type": "markdown",
   "metadata": {},
   "source": [
    "Data Science Fundamentals: Python |\n",
    "[Table of Contents](../index.ipynb)\n",
    "- - - \n",
    "<!--NAVIGATION-->\n",
    "Module 8. | [Inheritance & Methods](./01_oop_inheritance.ipynb) | [Sequences, Iterables, Generators Revisited](02_revisited.ipynb) | **[Exercises](./03_inheritance_methods_exercises.ipynb)**"
   ]
  },
  {
   "cell_type": "markdown",
   "metadata": {},
   "source": [
    "# Module 8: Practice Exercises"
   ]
  },
  {
   "cell_type": "markdown",
   "metadata": {},
   "source": [
    "## Exercise 1. "
   ]
  },
  {
   "cell_type": "markdown",
   "metadata": {},
   "source": [
    "You are given two classes, Person and Student, where Person is the base class and Student is the derived class. Completed code for Person and a declaration for Student are provided for you in the editor. Observe that Student inherits all the properties of Person.\n",
    "\n",
    "Complete the Student class by writing the following:\n",
    "\n",
    "A Student class constructor, which has 4 parameters:\n",
    "- A string, firstName\n",
    "- A string, lastName\n",
    "- An integer, id\n",
    "An integer array (or vector) of test scores, scores\n",
    "\n",
    "A char **calculate()** method that calculates a Student object's average and returns the grade character representative of their calculated average:\n",
    "```\n",
    "A | 90-100\n",
    "B | 80-89\n",
    "C | 70-79\n",
    "D | 60-69\n",
    "F | <60\n",
    "```"
   ]
  },
  {
   "cell_type": "code",
   "execution_count": 387,
   "metadata": {},
   "outputs": [],
   "source": [
    "# define the Vehicle class\n",
    "\n",
    "class Person:\n",
    "    def __init__(self, fname, lname):\n",
    "        self.fname = fname\n",
    "        self.lname = lname\n",
    "    def desc(self):\n",
    "        desc_person = \"%s %s is a person.\" % (self.fname, self.lname)\n",
    "        return desc_person\n",
    "    \n",
    "class Student(Person):\n",
    "    def __init__(self, fname, lname, ID, scores):\n",
    "        super().__init__(fname, lname)\n",
    "        self.ID = ID\n",
    "        self.scores = scores\n",
    "        if scores != None:\n",
    "            self.scores = [int(score) for score in scores.split()]\n",
    "            self.averageScore = sum(self.scores)/len(self.scores)\n",
    "        else:\n",
    "            self.scores = []\n",
    "            \n",
    "    def calc(self):\n",
    "        grade = \"\"\n",
    "        if len(self.scores) == 0:\n",
    "            grade = \"%s %s Student ID - %s, does not have any grades imported.\" % (self.fname, self.lname, self.ID)\n",
    "        else:\n",
    "            if 90 <= self.averageScore <= 100:\n",
    "                grade = \"%s %s Student ID %s, you got an A.\" % (self.fname, self.lname, self.ID)\n",
    "            elif 80 <= self.averageScore <= 89.999:\n",
    "                grade = \"%s %s Student ID %s, you got a B.\" % (self.fname, self.lname, self.ID)\n",
    "            elif 70 <= self.averageScore <= 79.999:\n",
    "                grade = \"%s %s Student ID %s, you got a C.\" % (self.fname, self.lname, self.ID)\n",
    "            elif 60 <= self.averageScore <= 59.999:\n",
    "                grade = \"%s %s Student ID %s, you got a D.\" % (self.fname, self.lname, self.ID)\n",
    "            else:\n",
    "                grade = \"%s %s Student ID %s, you got a failing grade of F.\" % (self.fname, self.lname, self.ID)\n",
    "            return grade\n",
    "        \n",
    "    def desc(self):\n",
    "        desc_person = \"%s %s is a student.\" % (self.fname, self.lname)\n",
    "        return desc_person\n",
    "        \n",
    "        \n",
    "        \n",
    "class Grades(Student):\n",
    "    \n",
    "        def desc(self):\n",
    "            if len(self.scores) == 0:\n",
    "                desc_person = \"%s %s doesn't have grades.\" % (self.fname, self.lname)\n",
    "            else:\n",
    "                desc_person = \"%s %s has grades.\" % (self.fname, self.lname)\n",
    "            return desc_person\n",
    "\n"
   ]
  },
  {
   "cell_type": "code",
   "execution_count": 391,
   "metadata": {},
   "outputs": [
    {
     "name": "stdout",
     "output_type": "stream",
     "text": [
      "First Name: Ethan\n",
      "Last Name: Leavitt\n",
      "Student ID: 810498172\n",
      "Enter a list of grades separated by a space: 77 88 99 55 44 88\n",
      "Ethan Leavitt Student ID 810498172, you got a C.\n"
     ]
    }
   ],
   "source": [
    "# your code goes here\n",
    "\n",
    "a = input(\"First Name: \")\n",
    "b = input(\"Last Name: \")\n",
    "c = input(\"Student ID: \")\n",
    "d = input(\"Enter a list of grades separated by a space: \")\n",
    "person3 = Grades(a,b,c,d)\n",
    "print(person3.calc())"
   ]
  },
  {
   "cell_type": "code",
   "execution_count": 392,
   "metadata": {},
   "outputs": [
    {
     "name": "stdout",
     "output_type": "stream",
     "text": [
      "\n",
      "First Name: Ethan\n",
      "Last Name: Leavitt\n",
      "Student ID: 810498172\n",
      "Enter a list of grades separated by a space: 77 88 99 55 44 88\n",
      "Ethan Leavitt Student ID 810498172, you got a C.\n",
      "\n"
     ]
    }
   ],
   "source": [
    "output = '''\n",
    "First Name: %s\n",
    "Last Name: %s\n",
    "Student ID: %s\n",
    "Enter a list of grades separated by a space: %s\n",
    "%s\n",
    "''' % (person3.fname, person3.lname, person3.ID, ' '.join(str(e) for e in person3.scores), person3.calc())\n",
    "print(output)"
   ]
  },
  {
   "cell_type": "markdown",
   "metadata": {},
   "source": [
    "https://github.com/boulderwhis/DataScienceHomeWork/blob/main/03_inheritance_methods_exercises.ipynb"
   ]
  },
  {
   "cell_type": "markdown",
   "metadata": {},
   "source": [
    "[How To Submit Your Exercises](https://www.youtube.com/watch?v=GCd4auHwZZY)"
   ]
  },
  {
   "cell_type": "markdown",
   "metadata": {},
   "source": [
    "- - - \n",
    "<!--NAVIGATION-->\n",
    "Module 8. | [Inheritance & Methods](./01_oop_inheritance.ipynb) | [Sequences, Iterables, Generators Revisited](02_revisited.ipynb) | **[Exercises](./03_inheritance_methods_exercises.ipynb)**\n",
    "<br>\n",
    "[Top](#)"
   ]
  },
  {
   "cell_type": "markdown",
   "metadata": {},
   "source": [
    "- - -\n",
    "\n",
    "Copyright © 2020 Qualex Consulting Services Incorporated."
   ]
  },
  {
   "cell_type": "code",
   "execution_count": null,
   "metadata": {},
   "outputs": [],
   "source": []
  }
 ],
 "metadata": {
  "kernelspec": {
   "display_name": "Python 3 (ipykernel)",
   "language": "python",
   "name": "python3"
  },
  "language_info": {
   "codemirror_mode": {
    "name": "ipython",
    "version": 3
   },
   "file_extension": ".py",
   "mimetype": "text/x-python",
   "name": "python",
   "nbconvert_exporter": "python",
   "pygments_lexer": "ipython3",
   "version": "3.9.12"
  }
 },
 "nbformat": 4,
 "nbformat_minor": 4
}
