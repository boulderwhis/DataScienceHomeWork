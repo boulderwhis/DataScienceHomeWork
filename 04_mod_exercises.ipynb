{
 "cells": [
  {
   "cell_type": "markdown",
   "metadata": {},
   "source": [
    "Data Science Fundamentals: Python |\n",
    "[Table of Contents](../index.ipynb)\n",
    "- - - \n",
    "<!--NAVIGATION-->\n",
    "Module 3. [Control Flow](./01_mod_control_flow.ipynb) | [Statements](./02_python_statements.ipynb) | [Functions](./03_python_functions.ipynb) | **[Exercises](./04_mod_exercises.ipynb)**\n",
    "<!--NAVIGATION-->\n",
    "Supplemental. [While Loops](./supplemental/01_while-loop.ipynb) | [If Elif Else](./supplemental/02_if-elif-else.ipynb) | [Break Continue](./supplemental/03_break_continue.ipynb) | [For Loops](./04_for_loop.ipynb)\n",
    "<!--NAVIGATION-->\n",
    "Optional. [Writing Assignment](./optional/writing_assignment.ipynb) | [Real World Examples](./optional/real_world_examples.ipynb)"
   ]
  },
  {
   "cell_type": "markdown",
   "metadata": {},
   "source": [
    "# Module 3: Practice Exercises"
   ]
  },
  {
   "cell_type": "markdown",
   "metadata": {},
   "source": [
    "1. Guess a number between 1 to 9 given by the user. Hint. [Random](https://docs.python.org/3/library/random.html)"
   ]
  },
  {
   "cell_type": "code",
   "execution_count": 1,
   "metadata": {},
   "outputs": [
    {
     "name": "stdout",
     "output_type": "stream",
     "text": [
      "Please guess a number: 1\n",
      "Guessed Correctly! 1 is equal to 1 Hooorraayyyy\n"
     ]
    }
   ],
   "source": [
    "import random\n",
    "\n",
    "x = random.randrange(9)\n",
    "y = input(\"Please guess a number: \")\n",
    "while str(x) != y:\n",
    "    y = input(\"Please guess again: \")\n",
    "    continue\n",
    "print(\"Guessed Correctly! \"+ str(x)+\" is equal to \"+y+\" Hooorraayyyy\")"
   ]
  },
  {
   "cell_type": "markdown",
   "metadata": {},
   "source": [
    "## 2. Check the validity of password input by the user. Hint. [Re](https://docs.python.org/3/library/re.html) which does matching operations much like Perl.\n",
    "\n",
    "Validation:\n",
    "\n",
    "- At least 1 letter between [a-z] and 1 letter between [A-Z].\n",
    "- At least 1 number between [0-9].\n",
    "- At least 1 character from [$#@].\n",
    "- Minimum length 6 characters.\n",
    "- Maximum length 16 characters."
   ]
  },
  {
   "cell_type": "code",
   "execution_count": 2,
   "metadata": {},
   "outputs": [
    {
     "name": "stdout",
     "output_type": "stream",
     "text": [
      "Input your password : Group78@\n",
      "Valid Password\n"
     ]
    }
   ],
   "source": [
    "import re\n",
    "#put this into a function so we could call recursively until all password conditions are met\n",
    "def passwordChecker():\n",
    "    #Get input & set regex strings for re.search check\n",
    "    q = input('Input your password : ')\n",
    "    approved =\t['[\\$\\#\\@]','[a-z]', '[A-Z]','[0-9]']\n",
    "    h = '[!\\%\\^\\&\\*\\(\\)\\[\\]\\{\\}\\:\\;\\'\\\"\\?\\\\\\/\\,\\<\\.\\>\\~]'\n",
    "    #create list of q input in order to parse and loop through each character for validation\n",
    "    q = list(q)\n",
    "    #booleans for validation in totality\n",
    "    symNotAllowed = False\n",
    "    symbols = False\n",
    "    lowerCase = False\n",
    "    upperCase = False\n",
    "    digit = False\n",
    "    #check for password length, restart if out of bounds\n",
    "    if len(q) < 6 or len(q) > 16:\n",
    "        print(\"Password Incorrect Length\")\n",
    "        passwordChecker()\n",
    "    #loop through q list to confirm each character meets req'd conditions\n",
    "    for i in range(0, len(q)):\n",
    "        #match each character for unapproved symbols\n",
    "        c = re.search(h, q[i])\n",
    "        if c:\n",
    "            symNotAllowed = True\n",
    "            break\n",
    "        #loop each character to approved character list\n",
    "        for m in range(0, 4):\n",
    "            #match character against approved character list\n",
    "            b = re.search(approved[m], q[i])\n",
    "            #use iterator to ID which group of characters in approved list is being met and log to booleans\n",
    "            #all multiple Trues will overwrite leaving any Falses to result in pwd fail\n",
    "            if b and m == 0:\n",
    "                symbols = True\n",
    "            elif b and m == 1:\n",
    "                lowerCase = True\n",
    "            elif b and m == 2:\n",
    "                upperCase = True\n",
    "            elif b and m == 3:\n",
    "                digit = True\n",
    "                \n",
    "    #check symNotAllowed bool for invalid symbol\n",
    "    if symNotAllowed:\n",
    "        print(\"Invalid Password - Symbol Not Allowed\")\n",
    "        passwordChecker()\n",
    "    #check all requirements are met\n",
    "    elif not symbols or not lowerCase or not upperCase or not digit:\n",
    "        print(\"Invalid Password - Not All Requirements Met\")\n",
    "        passwordChecker()\n",
    "    #Confirm password if no invalid symbols are present and all requirements are met\n",
    "    else:\n",
    "        print(\"Valid Password\")\n",
    "\n",
    "passwordChecker()    \n",
    "\n",
    "#Input your password : aA9#aA9\n",
    "#Valid Password"
   ]
  },
  {
   "cell_type": "code",
   "execution_count": null,
   "metadata": {},
   "outputs": [],
   "source": []
  },
  {
   "cell_type": "markdown",
   "metadata": {},
   "source": [
    "3. Get input of the age of 3 people by user and determine oldest and youngest among them"
   ]
  },
  {
   "cell_type": "code",
   "execution_count": null,
   "metadata": {},
   "outputs": [],
   "source": []
  },
  {
   "cell_type": "code",
   "execution_count": 16,
   "metadata": {},
   "outputs": [
    {
     "name": "stdout",
     "output_type": "stream",
     "text": [
      "Enter First Person's Age : 10\n",
      "Enter Second Person's Age : 20\n",
      "Enter Third Person's Age : 15\n",
      "{'First Person': 10, 'Third Person': 15, 'Second Person': 20}\n",
      "The Oldest of All Three People is the Second Person at 20 years old\n",
      "The Youngest of All Three People is the First Person at 10 years old\n"
     ]
    }
   ],
   "source": [
    "#Wanted to practicing using a dictionary for this one\n",
    "i = {}\n",
    "\n",
    "number1 = int(input(\"Enter First Person's Age : \"))\n",
    "number2 = int(input(\"Enter Second Person's Age : \"))\n",
    "number3 = int(input(\"Enter Third Person's Age : \"))\n",
    "#add inputs to dictionary i\n",
    "i.update({'First Person': number1})\n",
    "i.update({'Second Person': number2})\n",
    "i.update({'Third Person': number3})\n",
    "#sort dictionary i based on values\n",
    "g = dict(sorted(i.items(), key = lambda item: item[1]))\n",
    "#print last & first keys & values of dictionary to answer question\n",
    "print('The Oldest of All Three People is the '+str(list(g)[-1])+' at '+str(list(g.values())[-1])+' years old')\n",
    "print('The Youngest of All Three People is the '+str(list(g)[0])+' at '+str(list(g.values())[0])+' years old')\n"
   ]
  },
  {
   "cell_type": "markdown",
   "metadata": {},
   "source": [
    "4. A student will not be allowed to sit in exam if his/her attendance is less than 75%.\n",
    "\n",
    "Take following input from user\n",
    "\n",
    "- Number of classes held\n",
    "- Number of classes attended.\n",
    "- And print percentage of class attended\n",
    "- Is student is allowed to sit in exam or not?"
   ]
  },
  {
   "cell_type": "code",
   "execution_count": 17,
   "metadata": {},
   "outputs": [
    {
     "name": "stdout",
     "output_type": "stream",
     "text": [
      "How Many Classes Are Held: 10\n",
      "How Man Classes Have You Attended: 2\n",
      "You can not take part in this exam\n"
     ]
    }
   ],
   "source": [
    "z = int(input('How Many Classes Are Held: '))\n",
    "e = int(input('How Man Classes Have You Attended: '))\n",
    "t = e/z\n",
    "\n",
    "if t >= .75:\n",
    "    print('You can take part in this exam')\n",
    "else:\n",
    "    print('You can not take part in this exam')"
   ]
  },
  {
   "cell_type": "markdown",
   "metadata": {},
   "source": [
    "5. Get an integer N from the user and perform the following actions:\n",
    "\n",
    "Find out - \n",
    "- if N is odd, print \"weird\"\n",
    "- if N is even and in the inclusive range of 2 to 5, print \"Not Weird\"\n",
    "- if N is even and in the inclusive range of 6 to 20, print \"Weird\"\n",
    "- if N is even and greater than 20, print \"Not Weird\""
   ]
  },
  {
   "cell_type": "code",
   "execution_count": 17,
   "metadata": {},
   "outputs": [
    {
     "name": "stdout",
     "output_type": "stream",
     "text": [
      "Feed me number nom nom: 16\n",
      "Weird\n"
     ]
    },
    {
     "data": {
      "text/plain": [
       "'\\nInput a Number to see if You Are Weird or Not Weird : 22\\nNot Weird\\n'"
      ]
     },
     "execution_count": 17,
     "metadata": {},
     "output_type": "execute_result"
    }
   ],
   "source": [
    "# Given an integer, n, perform the following conditional actions:\n",
    "# If n is odd, print Weird\n",
    "# If n is even and in the inclusive range of 2 to 5, print Not Weird\n",
    "# If n is even and in the inclusive range of 6 to 20, print Weird\n",
    "# If n is even and greater than 20, print Not Weird\n",
    "\n",
    "n = int(input(\"Input a Number to see if You Are Weird or Not Weird: \"))\n",
    "\n",
    "\n",
    "if n % 2 == 0:\n",
    "    if 2 <= n <= 5:\n",
    "        print(\"Not Weird\")\n",
    "    elif 6 <= n <= 20:\n",
    "        print(\"Weird\")\n",
    "    elif n > 20:\n",
    "        print(\"Not Weird\")\n",
    "else:\n",
    "    print(\"Weird\")\n",
    "\n",
    "\n",
    "'''\n",
    "Input a Number to see if You Are Weird or Not Weird : 22\n",
    "Not Weird\n",
    "'''"
   ]
  },
  {
   "cell_type": "markdown",
   "metadata": {},
   "source": [
    "\n",
    "## Extra Points\n",
    "- - -"
   ]
  },
  {
   "cell_type": "markdown",
   "metadata": {},
   "source": [
    "1. ***Optional Exercise (Extra Points)***. Write a Python program to reverse a string."
   ]
  },
  {
   "cell_type": "raw",
   "metadata": {},
   "source": [
    "Sample String : \"1234abcd\"\n",
    "Expected Output : \"dcba4321\""
   ]
  },
  {
   "cell_type": "code",
   "execution_count": 15,
   "metadata": {},
   "outputs": [
    {
     "name": "stdout",
     "output_type": "stream",
     "text": [
      "Input a string to reverse: 1234abcd\n"
     ]
    },
    {
     "data": {
      "text/plain": [
       "'dcba4321'"
      ]
     },
     "execution_count": 15,
     "metadata": {},
     "output_type": "execute_result"
    }
   ],
   "source": [
    "\n",
    "\n",
    "#Input a string to reverse: 1234abcd\n",
    "#'dcba4321'"
   ]
  },
  {
   "cell_type": "markdown",
   "metadata": {},
   "source": [
    "2. ***Optional Exercise (Extra Points)***. Write a Python function to multiply all the numbers in a list. "
   ]
  },
  {
   "cell_type": "raw",
   "metadata": {},
   "source": [
    "Sample List : (8, 2, 3, -1, 7)\n",
    "Expected Output : -336"
   ]
  },
  {
   "cell_type": "code",
   "execution_count": 14,
   "metadata": {},
   "outputs": [
    {
     "name": "stdout",
     "output_type": "stream",
     "text": [
      "-336\n"
     ]
    }
   ],
   "source": []
  },
  {
   "cell_type": "markdown",
   "metadata": {},
   "source": [
    "3. ***Optional Exercise (Extra Points)***. Write a Python function that accepts a string and calculate the number of upper case letters and lower case letters."
   ]
  },
  {
   "cell_type": "raw",
   "metadata": {},
   "source": [
    "Sample String : 'The quick Brow Fox'\n",
    "Expected Output :\n",
    "No. of Upper case characters : 3\n",
    "No. of Lower case Characters : 12"
   ]
  },
  {
   "cell_type": "code",
   "execution_count": 4,
   "metadata": {},
   "outputs": [
    {
     "name": "stdout",
     "output_type": "stream",
     "text": [
      "Input a sentence to calculate the number of upper and lower case letters: The quick Brown Fox\n",
      "Original String :  The quick Brown Fox\n",
      "No. of Upper case characters :  3\n",
      "No. of Lower case Characters :  13\n"
     ]
    }
   ],
   "source": []
  },
  {
   "cell_type": "markdown",
   "metadata": {},
   "source": [
    "- - -\n",
    "\n",
    "Copyright © 2020 Qualex Consulting Services Incorporated."
   ]
  }
 ],
 "metadata": {
  "kernelspec": {
   "display_name": "Python 3 (ipykernel)",
   "language": "python",
   "name": "python3"
  },
  "language_info": {
   "codemirror_mode": {
    "name": "ipython",
    "version": 3
   },
   "file_extension": ".py",
   "mimetype": "text/x-python",
   "name": "python",
   "nbconvert_exporter": "python",
   "pygments_lexer": "ipython3",
   "version": "3.9.12"
  }
 },
 "nbformat": 4,
 "nbformat_minor": 4
}
