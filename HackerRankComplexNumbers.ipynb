{
 "cells": [
  {
   "cell_type": "markdown",
   "id": "fe72bb68",
   "metadata": {},
   "source": [
    "# HackerRank Complex Numbers Problem "
   ]
  },
  {
   "cell_type": "markdown",
   "id": "28e79f19",
   "metadata": {},
   "source": [
    "For this challenge, you are given two complex numbers, and you have to print the result of their addition, subtraction, multiplication, division and modulus operations.\n",
    "\n",
    "The real and imaginary precision part should be correct up to two decimal places.\n",
    "\n",
    "Input Format\n",
    "\n",
    "One line of input: The real and imaginary part of a number separated by a space.\n",
    "\n",
    "Output Format\n",
    "\n",
    "For two complex numbers  and , the output should be in the following sequence on separate lines:\n",
    "\n",
    "\n",
    "For complex numbers with non-zero real and complex part, the output should be in the following format:\n",
    "\n",
    "Replace the plus symbol  with a minus symbol  when .\n",
    "\n",
    "For complex numbers with a zero complex part i.e. real numbers, the output should be:\n",
    "\n",
    "For complex numbers where the real part is zero and the complex part is non-zero, the output should be:\n",
    "\n",
    "Sample Input\n",
    "\n",
    "2 1\n",
    "5 6\n",
    "Sample Output\n",
    "\n",
    "7.00+7.00i\n",
    "-3.00-5.00i\n",
    "4.00+17.00i\n",
    "0.26-0.11i\n",
    "2.24+0.00i\n",
    "7.81+0.00i\n",
    "Concept\n",
    "\n",
    "Python is a fully object-oriented language like C++, Java, etc. For reading about classes, refer here.\n",
    "\n",
    "Methods with a double underscore before and after their name are considered as built-in methods. They are used by interpreters and are generally used in the implementation of overloaded operators or other built-in functionality.\n",
    "\n",
    "__add__-> Can be overloaded for + operation\n",
    "\n",
    "__sub__ -> Can be overloaded for - operation\n",
    "\n",
    "__mul__ -> Can be overloaded for * operation\n",
    "\n",
    "\n",
    "For more information on operator overloading in Python, refer here."
   ]
  },
  {
   "cell_type": "code",
   "execution_count": 1,
   "id": "997819c7",
   "metadata": {},
   "outputs": [
    {
     "name": "stdout",
     "output_type": "stream",
     "text": [
      "2 1\n",
      "5 6\n",
      "7.00+7.00i\n",
      "-3.00-5.00i\n",
      "4.00+17.00i\n",
      "0.26-0.11i\n",
      "2.24+0.00i\n",
      "7.81+0.00i\n"
     ]
    }
   ],
   "source": [
    " import math\n",
    "\n",
    "class Complex(object):\n",
    "    def __init__(self, real, imaginary):\n",
    "        self.real = real\n",
    "        self.imaginary = imaginary\n",
    "        \n",
    "    def __add__(self, no):\n",
    "        return Complex(self.real + no.real, self.imaginary + no.imaginary)\n",
    "    \n",
    "    def __sub__(self, no):\n",
    "        return Complex(self.real - no.real, self.imaginary - no.imaginary)\n",
    "    \n",
    "    def __mul__(self, no):\n",
    "        return Complex(\n",
    "            self.real * no.real - self.imaginary * no.imaginary, \n",
    "            self.real * no.imaginary + self.imaginary * no.real)\n",
    "            \n",
    "    def __truediv__(self, no):\n",
    "        try:\n",
    "            return Complex(\n",
    "                (self.real * no.real + self.imaginary * no.imaginary)/(no.real**2 + no.imaginary**2),\n",
    "                (self.imaginary * no.real - self.real * no.imaginary)/(no.real**2 + no.imaginary**2))\n",
    "        except ZerDivisionError as v:\n",
    "            print(v)\n",
    "            return none\n",
    "        \n",
    "    def mod(self):\n",
    "        return Complex(pow(self.real**2+self.imaginary**2, 0.5), 0.0)\n",
    "    \n",
    "    def __str__(self):\n",
    "        if self.imaginary == 0:\n",
    "            result = \"%.2f+0.00i\" % (self.real)\n",
    "        elif self.real == 0:\n",
    "            if self.imaginary >= 0:\n",
    "                result = \"0.00+%.2fi\" % (self.imaginary)\n",
    "            else:\n",
    "                result = \"0.00-%.2fi\" % (abs(self.imaginary))\n",
    "        elif self.imaginary > 0:\n",
    "            result = \"%.2f+%.2fi\" % (self.real, self.imaginary)\n",
    "        else:\n",
    "            result = \"%.2f-%.2fi\" % (self.real, abs(self.imaginary))\n",
    "        return result\n",
    "\n",
    "if __name__ == '__main__':\n",
    "    c = map(float, input().split())\n",
    "    d = map(float, input().split())\n",
    "    x = Complex(*c)\n",
    "    y = Complex(*d)\n",
    "    print(*map(str, [x+y, x-y, x*y, x/y, x.mod(), y.mod()]), sep='\\n')"
   ]
  },
  {
   "cell_type": "code",
   "execution_count": null,
   "id": "dd2e6017",
   "metadata": {},
   "outputs": [],
   "source": []
  }
 ],
 "metadata": {
  "kernelspec": {
   "display_name": "Python 3 (ipykernel)",
   "language": "python",
   "name": "python3"
  },
  "language_info": {
   "codemirror_mode": {
    "name": "ipython",
    "version": 3
   },
   "file_extension": ".py",
   "mimetype": "text/x-python",
   "name": "python",
   "nbconvert_exporter": "python",
   "pygments_lexer": "ipython3",
   "version": "3.9.12"
  }
 },
 "nbformat": 4,
 "nbformat_minor": 5
}
